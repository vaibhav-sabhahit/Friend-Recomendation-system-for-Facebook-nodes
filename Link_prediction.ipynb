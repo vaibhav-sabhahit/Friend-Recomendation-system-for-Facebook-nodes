{
 "cells": [
  {
   "cell_type": "code",
   "execution_count": 1,
   "metadata": {},
   "outputs": [],
   "source": [
    "# Import packages\n",
    "from sklearn.model_selection import train_test_split\n",
    "import random\n",
    "import csv\n",
    "import numpy as np\n",
    "from sklearn.metrics.pairwise import linear_kernel\n",
    "from sklearn import preprocessing\n",
    "import networkx as nx \n",
    "from networkx.drawing.nx_agraph import graphviz_layout\n",
    "import matplotlib.pyplot as plt \n",
    "\n",
    "with open(\"socfb-Carnegie49.txt\", \"r\") as f:\n",
    "    reader = csv.reader(f)\n",
    "    training_set  = list(reader)"
   ]
  },
  {
   "cell_type": "code",
   "execution_count": 2,
   "metadata": {},
   "outputs": [],
   "source": [
    "#generate the data set\n",
    "dataset=[element[0].split(\" \") for element in training_set]\n",
    "node_list = []\n",
    "for i, j in dataset:\n",
    "    if i not in node_list:\n",
    "        node_list.append(i)\n",
    "    if j not in node_list:\n",
    "        node_list.append(j)\n",
    "node_list = [int(i) for i in node_list]\n",
    "node_list.sort()"
   ]
  },
  {
   "cell_type": "code",
   "execution_count": 3,
   "metadata": {},
   "outputs": [],
   "source": [
    "#defining the graph\n",
    "g = nx.Graph() \n",
    "for el in node_list:\n",
    "    g.add_node(el)\n",
    "\n",
    "edges = [(element[0],element[1]) for element in dataset]\n",
    "for i,j in edges:\n",
    "    g.add_edge(int(i), int(j))"
   ]
  },
  {
   "cell_type": "code",
   "execution_count": 4,
   "metadata": {},
   "outputs": [],
   "source": [
    "edges=dict()\n",
    "for edge in dataset:\n",
    "    edges[(int(edge[0]), int(edge[1]))] = 1"
   ]
  },
  {
   "cell_type": "markdown",
   "metadata": {},
   "source": [
    "DESCRIPTIVE STATS"
   ]
  },
  {
   "cell_type": "code",
   "execution_count": 5,
   "metadata": {},
   "outputs": [
    {
     "name": "stdout",
     "output_type": "stream",
     "text": [
      "The number of unique persons in the network is 6637\n"
     ]
    }
   ],
   "source": [
    "# No of Unique persons \n",
    "print(\"The number of unique persons in the network is\",len(g.nodes()))"
   ]
  },
  {
   "cell_type": "code",
   "execution_count": 6,
   "metadata": {},
   "outputs": [
    {
     "data": {
      "image/png": "[encoded data removed]",
      "text/plain": [
       "<Figure size 720x432 with 1 Axes>"
      ]
     },
     "metadata": {
      "needs_background": "light"
     },
     "output_type": "display_data"
    }
   ],
   "source": [
    "degree_dist = list(dict(g.degree()).values())\n",
    "degree_dist.sort()\n",
    "plt.figure(figsize=(10,6))\n",
    "plt.plot(degree_dist)\n",
    "plt.xlabel('Index No')\n",
    "plt.ylabel('Number Of Friends')\n",
    "plt.show()"
   ]
  },
  {
   "cell_type": "code",
   "execution_count": 7,
   "metadata": {},
   "outputs": [
    {
     "name": "stdout",
     "output_type": "stream",
     "text": [
      "90 percentile value is 169.40000000000055\n",
      "91 percentile value is 177.0\n",
      "92 percentile value is 185.0\n",
      "93 percentile value is 196.0\n",
      "94 percentile value is 207.0\n",
      "95 percentile value is 220.19999999999982\n",
      "96 percentile value is 237.0\n",
      "97 percentile value is 255.92000000000007\n",
      "98 percentile value is 281.27999999999975\n",
      "99 percentile value is 333.0\n",
      "100 percentile value is 840.0\n"
     ]
    }
   ],
   "source": [
    "### 90-100 percentile\n",
    "for i in range(0,11):\n",
    "    print(90+i,'percentile value is',np.percentile(degree_dist,90+i))"
   ]
  },
  {
   "cell_type": "code",
   "execution_count": 8,
   "metadata": {},
   "outputs": [
    {
     "name": "stdout",
     "output_type": "stream",
     "text": [
      "99.1 percentile value is 344.0\n",
      "99.2 percentile value is 352.91200000000026\n",
      "99.3 percentile value is 367.7399999999989\n",
      "99.4 percentile value is 383.7360000000044\n",
      "99.5 percentile value is 403.0\n",
      "99.6 percentile value is 424.7360000000008\n",
      "99.7 percentile value is 449.3679999999986\n",
      "99.8 percentile value is 476.91200000000026\n",
      "99.9 percentile value is 590.5640000000249\n",
      "100.0 percentile value is 840.0\n"
     ]
    }
   ],
   "source": [
    "### 99-100 percentile\n",
    "for i in range(10,110,10):\n",
    "    print(99+(i/100),'percentile value is',np.percentile(degree_dist,99+(i/100)))"
   ]
  },
  {
   "cell_type": "code",
   "execution_count": 9,
   "metadata": {},
   "outputs": [
    {
     "data": {
      "image/png": "[encoded data removed]",
      "text/plain": [
       "<Figure size 432x288 with 1 Axes>"
      ]
     },
     "metadata": {
      "needs_background": "light"
     },
     "output_type": "display_data"
    }
   ],
   "source": [
    "plt.boxplot(degree_dist)\n",
    "plt.ylabel('Number of friends for each person')\n",
    "plt.show()"
   ]
  },
  {
   "cell_type": "code",
   "execution_count": 10,
   "metadata": {},
   "outputs": [
    {
     "name": "stdout",
     "output_type": "stream",
     "text": [
      "54.0\n",
      "75.32529757420521\n"
     ]
    }
   ],
   "source": [
    "print(np.median(degree_dist))\n",
    "print(np.mean(degree_dist))"
   ]
  },
  {
   "cell_type": "code",
   "execution_count": 11,
   "metadata": {},
   "outputs": [
    {
     "name": "stdout",
     "output_type": "stream",
     "text": [
      "There are 0 person having zero friend. There are 205 having 1 friend, which represents 3.0887449148711767 % of the total number of persons\n"
     ]
    }
   ],
   "source": [
    "print('There are',sum(np.array(degree_dist)==0),'person having zero friend. There are' ,sum(np.array(degree_dist)==1),'having 1 friend, which represents' , sum(np.array(degree_dist)==1)*100/len(degree_dist) ,'% of the total number of persons',\n",
    "                                 )"
   ]
  },
  {
   "cell_type": "code",
   "execution_count": 12,
   "metadata": {},
   "outputs": [],
   "source": [
    "from collections import Counter\n",
    "dict_friends = dict(g.degree())\n",
    "d = Counter(dict_friends)\n",
    "degree = np.array(list(d.values()))"
   ]
  },
  {
   "cell_type": "code",
   "execution_count": 13,
   "metadata": {},
   "outputs": [
    {
     "name": "stdout",
     "output_type": "stream",
     "text": [
      "Number of persons having less than 10 friends is 891\n"
     ]
    }
   ],
   "source": [
    "print('Number of persons having less than 10 friends is',np.sum(degree<10))"
   ]
  },
  {
   "cell_type": "markdown",
   "metadata": {},
   "source": [
    "MODEL GENERATION"
   ]
  },
  {
   "cell_type": "code",
   "execution_count": 14,
   "metadata": {},
   "outputs": [],
   "source": [
    "#generate negative samples\n",
    "missing=[]\n",
    "while len(missing)< len(edges):\n",
    "    a=random.randint(1,4031)\n",
    "    b=random.randint(1,4031)\n",
    "    e=edges.get((a,b),0)\n",
    "    if e==0 and a!=b:\n",
    "        try:\n",
    "            if(nx.shortest_path_length(g,a,b)>2):\n",
    "                missing.append((a,b))\n",
    "            else:\n",
    "                continue\n",
    "        except:\n",
    "            missing.append((a,b))"
   ]
  },
  {
   "cell_type": "code",
   "execution_count": 15,
   "metadata": {},
   "outputs": [],
   "source": [
    "#define the complete set\n",
    "facebook=[]\n",
    "target=[]\n",
    "for a,b in dataset:\n",
    "    facebook.append((int(a),int(b)))\n",
    "    target.append(1)\n",
    "for a,b in missing:\n",
    "    facebook.append((a,b))\n",
    "    target.append(0)"
   ]
  },
  {
   "cell_type": "code",
   "execution_count": 16,
   "metadata": {},
   "outputs": [],
   "source": [
    "temp=list(zip(facebook,target))\n",
    "random.shuffle(temp)\n",
    "facebook,target=zip(*temp)\n",
    "X_train, X_test, y_train, y_test=train_test_split(facebook,target,train_size=0.2)"
   ]
  },
  {
   "cell_type": "code",
   "execution_count": 17,
   "metadata": {},
   "outputs": [],
   "source": [
    "#how many connections needed for two people to be friends\n",
    "def compute_shortest_path_length(a,b):\n",
    "    p=-1\n",
    "    try:\n",
    "        if g.has_edge(a,b):\n",
    "            g.remove_edge(a,b)\n",
    "            p= nx.shortest_path_length(g,source=a,target=b)\n",
    "            g.add_edge(a,b)\n",
    "        else:\n",
    "            p= nx.shortest_path_length(g,source=a,target=b)\n",
    "        return p\n",
    "    except:\n",
    "        return -1"
   ]
  },
  {
   "cell_type": "code",
   "execution_count": 18,
   "metadata": {},
   "outputs": [],
   "source": [
    "#Compute Adar Index\n",
    "preds = nx.adamic_adar_index(g)\n",
    "x={}\n",
    "for u,v,val in preds:\n",
    "    x[(u,v)]=val"
   ]
  },
  {
   "cell_type": "code",
   "execution_count": 19,
   "metadata": {},
   "outputs": [],
   "source": [
    "#Compute Jaccard similarity\n",
    "preds_jaccard=nx.jaccard_coefficient(g)\n",
    "x_jaccard={}\n",
    "for u,v,val in preds_jaccard:\n",
    "    x_jaccard[(u,v)]=val"
   ]
  },
  {
   "cell_type": "code",
   "execution_count": 20,
   "metadata": {},
   "outputs": [],
   "source": [
    "#Compute common neighbors\n",
    "def CommonNeighbors(u, v):\n",
    "    u_neighbors = set(g.neighbors(u))\n",
    "    v_neighbors = set(g.neighbors(v))\n",
    "    return len(u_neighbors.intersection(v_neighbors))"
   ]
  },
  {
   "cell_type": "code",
   "execution_count": 21,
   "metadata": {},
   "outputs": [],
   "source": [
    "#Compute harmonic centrality for the whole graph\n",
    "harmonic_centrality = nx.harmonic_centrality(g)"
   ]
  },
  {
   "cell_type": "code",
   "execution_count": 22,
   "metadata": {},
   "outputs": [],
   "source": [
    "# compute betweeness_centrality\n",
    "betweenness_centrality = nx.betweenness_centrality(g)"
   ]
  },
  {
   "cell_type": "code",
   "execution_count": 23,
   "metadata": {},
   "outputs": [],
   "source": [
    "# compute eigenvector centrality\n",
    "eigenvector_centrality = nx.eigenvector_centrality(g,max_iter=1000)"
   ]
  },
  {
   "cell_type": "code",
   "execution_count": 31,
   "metadata": {},
   "outputs": [],
   "source": [
    "#training feature generation\n",
    "adar=[]\n",
    "shortest_dist=[]\n",
    "jaccard=[]\n",
    "betweeness_a=[]\n",
    "betweeness_b=[]\n",
    "eigenvector_a=[]\n",
    "eigenvector_b=[]\n",
    "harmonic_a=[]\n",
    "harmonic_b=[]\n",
    "common_neig=[]\n",
    "for a,b in X_train:\n",
    "    adar.append(x.get((a,b),0))\n",
    "    shortest_dist.append(compute_shortest_path_length(a,b))\n",
    "    common_neig.append(CommonNeighbors(a,b))\n",
    "    jaccard.append(x_jaccard.get((a,b),0))\n",
    "    eigenvector_a.append(eigenvector_centrality.get(a,0))\n",
    "    eigenvector_b.append(eigenvector_centrality.get(b,0))\n",
    "    betweeness_a.append(betweenness_centrality.get(a,0))\n",
    "    betweeness_b.append(betweenness_centrality.get(b,0))\n",
    "    harmonic_a.append(harmonic_centrality.get(a,0))\n",
    "    harmonic_b.append(harmonic_centrality.get(b,0))"
   ]
  },
  {
   "cell_type": "code",
   "execution_count": 32,
   "metadata": {},
   "outputs": [],
   "source": [
    "#Training set\n",
    "training=np.array([adar,shortest_dist,common_neig, jaccard,betweeness_a,betweeness_b, harmonic_a,harmonic_b,eigenvector_a,eigenvector_b]).T\n",
    "\n"
   ]
  },
  {
   "cell_type": "code",
   "execution_count": 33,
   "metadata": {},
   "outputs": [
    {
     "data": {
      "text/plain": [
       "XGBClassifier(base_score=0.5, booster=None, colsample_bylevel=1,\n",
       "              colsample_bynode=1, colsample_bytree=1, gamma=0, gpu_id=-1,\n",
       "              importance_type='gain', interaction_constraints=None,\n",
       "              learning_rate=0.300000012, max_delta_step=0, max_depth=6,\n",
       "              min_child_weight=1, missing=nan, monotone_constraints=None,\n",
       "              n_estimators=100, n_jobs=0, num_parallel_tree=1,\n",
       "              objective='binary:logistic', random_state=0, reg_alpha=0,\n",
       "              reg_lambda=1, scale_pos_weight=1, subsample=1, tree_method=None,\n",
       "              validate_parameters=False, verbosity=None)"
      ]
     },
     "execution_count": 33,
     "metadata": {},
     "output_type": "execute_result"
    }
   ],
   "source": [
    "#Classifier\n",
    "from xgboost import XGBClassifier\n",
    "classifier_xgb = XGBClassifier()\n",
    "classifier_xgb.fit(training, y_train)"
   ]
  },
  {
   "cell_type": "code",
   "execution_count": 37,
   "metadata": {},
   "outputs": [],
   "source": [
    "#testing feature generation\n",
    "adar_test=[]\n",
    "shortest_dist_test=[]\n",
    "common_neig_test=[]\n",
    "jaccard_test=[]\n",
    "eigenvector_test_a=[]\n",
    "eigenvector_test_b =[]\n",
    "betweeness_test_a=[]\n",
    "betweeness_test_b=[]\n",
    "harmonic_test_a=[]\n",
    "harmonic_test_b=[]\n",
    "for a,b in X_test:\n",
    "    adar_test.append(x.get((a,b),0))\n",
    "    shortest_dist_test.append(compute_shortest_path_length(a,b))\n",
    "    common_neig_test.append(CommonNeighbors(a,b))\n",
    "    jaccard_test.append(x_jaccard.get((a,b),0))\n",
    "    eigenvector_test_a.append(eigenvector_centrality.get(a,0))\n",
    "    eigenvector_test_b.append(eigenvector_centrality.get(b,0))\n",
    "    betweeness_test_a.append(betweenness_centrality.get(a,0))\n",
    "    betweeness_test_b.append(betweenness_centrality.get(b,0))\n",
    "    harmonic_test_a.append(harmonic_centrality.get(a,0))\n",
    "    harmonic_test_b.append(harmonic_centrality.get(b,0))"
   ]
  },
  {
   "cell_type": "code",
   "execution_count": 38,
   "metadata": {},
   "outputs": [],
   "source": [
    "# Testing set\n",
    "testing=np.array([adar_test,shortest_dist_test,common_neig_test,jaccard_test,betweeness_test_a,betweeness_test_b, harmonic_test_a,harmonic_test_b, eigenvector_test_a,eigenvector_test_b]).T\n"
   ]
  },
  {
   "cell_type": "code",
   "execution_count": 39,
   "metadata": {},
   "outputs": [
    {
     "data": {
      "text/plain": [
       "0.9944592797063618"
      ]
     },
     "execution_count": 39,
     "metadata": {},
     "output_type": "execute_result"
    }
   ],
   "source": [
    "# Score with XGBClassifier\n",
    "from sklearn.metrics import accuracy_score\n",
    "y_pred_xgb=classifier_xgb.predict(testing)\n",
    "accuracy_score(y_pred_xgb,y_test)"
   ]
  },
  {
   "cell_type": "code",
   "execution_count": 40,
   "metadata": {},
   "outputs": [
    {
     "name": "stderr",
     "output_type": "stream",
     "text": [
      "/opt/conda/lib/python3.7/site-packages/sklearn/svm/_base.py:947: ConvergenceWarning: Liblinear failed to converge, increase the number of iterations.\n",
      "  \"the number of iterations.\", ConvergenceWarning)\n"
     ]
    },
    {
     "data": {
      "text/plain": [
       "LinearSVC(C=0.01, class_weight=None, dual=True, fit_intercept=True,\n",
       "          intercept_scaling=1, loss='squared_hinge', max_iter=1000,\n",
       "          multi_class='ovr', penalty='l2', random_state=None, tol=0.0001,\n",
       "          verbose=0)"
      ]
     },
     "execution_count": 40,
     "metadata": {},
     "output_type": "execute_result"
    }
   ],
   "source": [
    "#With linear regression\n",
    "from sklearn import svm\n",
    "classifier_svm001 = svm.LinearSVC(C=0.01)\n",
    "classifier_svm001.fit(training, y_train)"
   ]
  },
  {
   "cell_type": "code",
   "execution_count": 41,
   "metadata": {},
   "outputs": [
    {
     "data": {
      "text/plain": [
       "0.9825552321801834"
      ]
     },
     "execution_count": 41,
     "metadata": {},
     "output_type": "execute_result"
    }
   ],
   "source": [
    "# Score  with LinearSVC C=0.01\n",
    "from sklearn.metrics import accuracy_score\n",
    "y_pred_svm001=classifier_svm001.predict(testing)\n",
    "accuracy_score(y_pred_svm001,y_test)"
   ]
  },
  {
   "cell_type": "code",
   "execution_count": 42,
   "metadata": {},
   "outputs": [
    {
     "data": {
      "text/plain": [
       "RandomForestClassifier(bootstrap=True, ccp_alpha=0.0, class_weight=None,\n",
       "                       criterion='gini', max_depth=None, max_features='auto',\n",
       "                       max_leaf_nodes=None, max_samples=None,\n",
       "                       min_impurity_decrease=0.0, min_impurity_split=None,\n",
       "                       min_samples_leaf=1, min_samples_split=2,\n",
       "                       min_weight_fraction_leaf=0.0, n_estimators=100,\n",
       "                       n_jobs=None, oob_score=False, random_state=None,\n",
       "                       verbose=0, warm_start=False)"
      ]
     },
     "execution_count": 42,
     "metadata": {},
     "output_type": "execute_result"
    }
   ],
   "source": [
    "#With random forest\n",
    "from sklearn.ensemble import RandomForestClassifier\n",
    "classifier_rf = RandomForestClassifier()\n",
    "classifier_rf.fit(training, y_train)"
   ]
  },
  {
   "cell_type": "code",
   "execution_count": 43,
   "metadata": {},
   "outputs": [
    {
     "data": {
      "text/plain": [
       "0.9944917839319112"
      ]
     },
     "execution_count": 43,
     "metadata": {},
     "output_type": "execute_result"
    }
   ],
   "source": [
    "# Score with Random forest\n",
    "from sklearn.metrics import accuracy_score\n",
    "y_pred_rf=classifier_rf.predict(testing)\n",
    "accuracy_score(y_pred_rf,y_test)"
   ]
  },
  {
   "cell_type": "code",
   "execution_count": 44,
   "metadata": {},
   "outputs": [
    {
     "name": "stderr",
     "output_type": "stream",
     "text": [
      "/opt/conda/lib/python3.7/site-packages/sklearn/svm/_base.py:947: ConvergenceWarning: Liblinear failed to converge, increase the number of iterations.\n",
      "  \"the number of iterations.\", ConvergenceWarning)\n"
     ]
    },
    {
     "data": {
      "text/plain": [
       "LinearSVC(C=1.0, class_weight=None, dual=True, fit_intercept=True,\n",
       "          intercept_scaling=1, loss='squared_hinge', max_iter=1000,\n",
       "          multi_class='ovr', penalty='l2', random_state=None, tol=0.0001,\n",
       "          verbose=0)"
      ]
     },
     "execution_count": 44,
     "metadata": {},
     "output_type": "execute_result"
    }
   ],
   "source": [
    "#With linear regression\n",
    "from sklearn import svm\n",
    "classifier_svm = svm.LinearSVC()\n",
    "classifier_svm.fit(training, y_train)"
   ]
  },
  {
   "cell_type": "code",
   "execution_count": 45,
   "metadata": {},
   "outputs": [
    {
     "data": {
      "text/plain": [
       "0.9795723444047726"
      ]
     },
     "execution_count": 45,
     "metadata": {},
     "output_type": "execute_result"
    }
   ],
   "source": [
    "# Score with LinearSVC\n",
    "from sklearn.metrics import accuracy_score\n",
    "y_pred_svm=classifier_svm.predict(testing)\n",
    "accuracy_score(y_pred_svm,y_test)"
   ]
  },
  {
   "cell_type": "code",
   "execution_count": 46,
   "metadata": {},
   "outputs": [
    {
     "data": {
      "text/plain": [
       "PassiveAggressiveClassifier(C=1.0, average=False, class_weight=None,\n",
       "                            early_stopping=False, fit_intercept=True,\n",
       "                            loss='hinge', max_iter=1000, n_iter_no_change=5,\n",
       "                            n_jobs=None, random_state=None, shuffle=True,\n",
       "                            tol=0.001, validation_fraction=0.1, verbose=0,\n",
       "                            warm_start=False)"
      ]
     },
     "execution_count": 46,
     "metadata": {},
     "output_type": "execute_result"
    }
   ],
   "source": [
    "#With linear Passive Aggressive Classifier\n",
    "from sklearn.linear_model import PassiveAggressiveClassifier\n",
    "classifier_pac = PassiveAggressiveClassifier()\n",
    "classifier_pac.fit(training, y_train)"
   ]
  },
  {
   "cell_type": "code",
   "execution_count": 47,
   "metadata": {},
   "outputs": [
    {
     "data": {
      "text/plain": [
       "0.9481282566733675"
      ]
     },
     "execution_count": 47,
     "metadata": {},
     "output_type": "execute_result"
    }
   ],
   "source": [
    "# Score Vaibhav with Passive Aggressive Classifier\n",
    "from sklearn.metrics import accuracy_score\n",
    "y_pred_pac=classifier_pac.predict(testing)\n",
    "accuracy_score(y_pred_pac,y_test)"
   ]
  },
  {
   "cell_type": "code",
   "execution_count": null,
   "metadata": {},
   "outputs": [],
   "source": []
  },
  {
   "cell_type": "code",
   "execution_count": null,
   "metadata": {},
   "outputs": [],
   "source": []
  },
  {
   "cell_type": "code",
   "execution_count": null,
   "metadata": {},
   "outputs": [],
   "source": []
  }
 ],
 "metadata": {
  "kernelspec": {
   "display_name": "Python 3",
   "language": "python",
   "name": "python3"
  },
  "language_info": {
   "codemirror_mode": {
    "name": "ipython",
    "version": 3
   },
   "file_extension": ".py",
   "mimetype": "text/x-python",
   "name": "python",
   "nbconvert_exporter": "python",
   "pygments_lexer": "ipython3",
   "version": "3.7.6"
  }
 },
 "nbformat": 4,
 "nbformat_minor": 4
}
